{
 "cells": [
  {
   "cell_type": "markdown",
   "metadata": {},
   "source": [
    "Facebook Data Crawling\n",
    "\n",
    "After the data is collected, we need to process the data to make it more readable and easier to analyze. We can do some simple visualization to see the data distribution and the relationship between the data. We can also do some simple data cleaning to remove the data that is not needed. In this notebook, we will do some simple data processing on the data we collected from Facebook."
   ]
  },
  {
   "cell_type": "code",
   "execution_count": 1,
   "metadata": {},
   "outputs": [
    {
     "name": "stdout",
     "output_type": "stream",
     "text": [
      "Requirement already satisfied: matplotlib in c:\\users\\admin\\appdata\\local\\programs\\python\\python311\\lib\\site-packages (3.8.2)\n",
      "Requirement already satisfied: pandas in c:\\users\\admin\\appdata\\local\\programs\\python\\python311\\lib\\site-packages (2.1.3)\n",
      "Requirement already satisfied: numpy in c:\\users\\admin\\appdata\\local\\programs\\python\\python311\\lib\\site-packages (1.26.2)\n",
      "Collecting seaborn\n",
      "  Downloading seaborn-0.13.0-py3-none-any.whl (294 kB)\n",
      "                                              0.0/294.6 kB ? eta -:--:--\n",
      "                                              0.0/294.6 kB ? eta -:--:--\n",
      "     ----                                     30.7/294.6 kB ? eta -:--:--\n",
      "     ----                                     30.7/294.6 kB ? eta -:--:--\n",
      "     -----                                 41.0/294.6 kB 281.8 kB/s eta 0:00:01\n",
      "     -----------                           92.2/294.6 kB 525.1 kB/s eta 0:00:01\n",
      "     ---------------                      122.9/294.6 kB 658.7 kB/s eta 0:00:01\n",
      "     -----------------                    143.4/294.6 kB 610.6 kB/s eta 0:00:01\n",
      "     -----------------------              194.6/294.6 kB 737.3 kB/s eta 0:00:01\n",
      "     ------------------------------------ 294.6/294.6 kB 960.6 kB/s eta 0:00:00\n",
      "Collecting wordcloud\n",
      "  Downloading wordcloud-1.9.2-cp311-cp311-win_amd64.whl (151 kB)\n",
      "                                              0.0/151.4 kB ? eta -:--:--\n",
      "     ---------------------                   81.9/151.4 kB 2.2 MB/s eta 0:00:01\n",
      "     -------------------------------------- 151.4/151.4 kB 2.2 MB/s eta 0:00:00\n",
      "Requirement already satisfied: contourpy>=1.0.1 in c:\\users\\admin\\appdata\\local\\programs\\python\\python311\\lib\\site-packages (from matplotlib) (1.2.0)\n",
      "Requirement already satisfied: cycler>=0.10 in c:\\users\\admin\\appdata\\local\\programs\\python\\python311\\lib\\site-packages (from matplotlib) (0.12.1)\n",
      "Requirement already satisfied: fonttools>=4.22.0 in c:\\users\\admin\\appdata\\local\\programs\\python\\python311\\lib\\site-packages (from matplotlib) (4.46.0)\n",
      "Requirement already satisfied: kiwisolver>=1.3.1 in c:\\users\\admin\\appdata\\local\\programs\\python\\python311\\lib\\site-packages (from matplotlib) (1.4.5)\n",
      "Requirement already satisfied: packaging>=20.0 in c:\\users\\admin\\appdata\\local\\programs\\python\\python311\\lib\\site-packages (from matplotlib) (23.2)\n",
      "Requirement already satisfied: pillow>=8 in c:\\users\\admin\\appdata\\local\\programs\\python\\python311\\lib\\site-packages (from matplotlib) (10.1.0)\n",
      "Requirement already satisfied: pyparsing>=2.3.1 in c:\\users\\admin\\appdata\\local\\programs\\python\\python311\\lib\\site-packages (from matplotlib) (3.1.1)\n",
      "Requirement already satisfied: python-dateutil>=2.7 in c:\\users\\admin\\appdata\\local\\programs\\python\\python311\\lib\\site-packages (from matplotlib) (2.8.2)\n",
      "Requirement already satisfied: pytz>=2020.1 in c:\\users\\admin\\appdata\\local\\programs\\python\\python311\\lib\\site-packages (from pandas) (2023.3.post1)\n",
      "Requirement already satisfied: tzdata>=2022.1 in c:\\users\\admin\\appdata\\local\\programs\\python\\python311\\lib\\site-packages (from pandas) (2023.3)\n",
      "Requirement already satisfied: six>=1.5 in c:\\users\\admin\\appdata\\local\\programs\\python\\python311\\lib\\site-packages (from python-dateutil>=2.7->matplotlib) (1.16.0)\n",
      "Installing collected packages: wordcloud, seaborn\n",
      "Successfully installed seaborn-0.13.0 wordcloud-1.9.2\n",
      "Note: you may need to restart the kernel to use updated packages.\n"
     ]
    },
    {
     "name": "stderr",
     "output_type": "stream",
     "text": [
      "\n",
      "[notice] A new release of pip is available: 23.1.2 -> 23.3.1\n",
      "[notice] To update, run: python.exe -m pip install --upgrade pip\n"
     ]
    }
   ],
   "source": [
    "%pip install matplotlib pandas numpy seaborn wordcloud"
   ]
  },
  {
   "cell_type": "code",
   "execution_count": 2,
   "metadata": {},
   "outputs": [],
   "source": [
    "import numpy as np\n",
    "import pandas as pd\n",
    "import matplotlib.pyplot as plt\n",
    "import seaborn as sns\n",
    "import datetime\n",
    "import json"
   ]
  },
  {
   "cell_type": "code",
   "execution_count": null,
   "metadata": {},
   "outputs": [],
   "source": [
    "raw_df = pd.read_csv('Data/HonkaiStarRail.VN.csv')"
   ]
  },
  {
   "cell_type": "code",
   "execution_count": null,
   "metadata": {},
   "outputs": [],
   "source": [
    "raw_df.info()"
   ]
  },
  {
   "cell_type": "code",
   "execution_count": null,
   "metadata": {},
   "outputs": [],
   "source": [
    "first_row = raw_df.iloc[0]\n",
    "reactions = dict(eval(first_row['reactions']))\n",
    "reactions[\"shares\"] = first_row['shares']\n",
    "reactions[\"comments\"] = first_row['comments']"
   ]
  },
  {
   "cell_type": "code",
   "execution_count": null,
   "metadata": {},
   "outputs": [],
   "source": [
    "reactions"
   ]
  },
  {
   "cell_type": "markdown",
   "metadata": {},
   "source": [
    "Reactions analysis"
   ]
  },
  {
   "cell_type": "code",
   "execution_count": null,
   "metadata": {},
   "outputs": [],
   "source": [
    "sns.set_theme(style=\"whitegrid\")\n",
    "sns.set(rc={'figure.figsize':(15,5)})\n",
    "sns.set(font_scale=1.5)\n",
    "\n",
    "# plot the reactions\n",
    "fig, ax = plt.subplots()\n",
    "ax = sns.barplot(x=list(reactions.keys()), y=list(reactions.values()))\n",
    "ax.set_title(\"Reactions to HonkaiStarRail's Facebook Posts\")\n",
    "ax.set_ylabel(\"Number of Reactions\")\n",
    "ax.set_xlabel(\"Type of Reaction\")\n",
    "plt.xticks(rotation=-45)\n",
    "plt.show()"
   ]
  },
  {
   "cell_type": "markdown",
   "metadata": {},
   "source": [
    "Read all posts"
   ]
  },
  {
   "cell_type": "code",
   "execution_count": null,
   "metadata": {},
   "outputs": [],
   "source": [
    "df_text = post_df[['post_id','post_text']]\n",
    "text    = str(df_text['post_text'])\n",
    "\n",
    "df_text"
   ]
  },
  {
   "cell_type": "code",
   "execution_count": null,
   "metadata": {},
   "outputs": [],
   "source": [
    "from wordcloud import WordCloud, STOPWORDS\n",
    "\n",
    "wordcloud = WordCloud(stopwords=STOPWORDS,\n",
    "                          background_color='white', \n",
    "                      max_words=300,\n",
    "                      width=2000, height=1200\n",
    "                         ).generate(text)\n",
    "plt.figure(figsize=(40,20))\n",
    "plt.clf()\n",
    "plt.imshow(wordcloud)\n",
    "plt.axis('off')\n",
    "plt.show()"
   ]
  },
  {
   "cell_type": "code",
   "execution_count": null,
   "metadata": {},
   "outputs": [],
   "source": [
    "# Find the earliest and latest post\n",
    "earliest_post_time = df_filtered['time'].min()\n",
    "latest_post_time = df_filtered['time'].max()"
   ]
  },
  {
   "cell_type": "code",
   "execution_count": null,
   "metadata": {},
   "outputs": [],
   "source": [
    "print(\"Thời gian bài đăng sớm nhất:\", earliest_post_time)\n",
    "print(\"Thời gian bài đăng mới nhất:\", latest_post_time)"
   ]
  },
  {
   "cell_type": "code",
   "execution_count": null,
   "metadata": {},
   "outputs": [],
   "source": [
    "# Find the total interactions of all posts\n",
    "df_filtered[\"total_interactions\"] = df_filtered[\"reaction_count\"] + df_filtered[\"comments\"] + df_filtered[\"shares\"]\n",
    "\n",
    "print(\"Tổng số lượt tương tác:\", df_filtered[\"total_interactions\"].sum())\n",
    "print(\"Lượt tương tác trung bình:\", int(df_filtered[\"total_interactions\"].mean()))"
   ]
  },
  {
   "cell_type": "code",
   "execution_count": null,
   "metadata": {},
   "outputs": [],
   "source": [
    "# Find the post which has the highest number of interactions\n",
    "most_interacted_post = df_filtered.loc[df_filtered[\"total_interactions\"].idxmax()]\n",
    "\n",
    "print(\"Bài viết có lượng tương tác lớn nhất:\")\n",
    "print(most_interacted_post[\"post_text\"])\n",
    "print(\"Lượt thích:\", most_interacted_post[\"reaction_count\"])\n",
    "print(\"Bình luận:\", most_interacted_post[\"comments\"])\n",
    "print(\"Chia sẻ:\", most_interacted_post[\"shares\"])\n",
    "print(\"Thời gian:\",most_interacted_post[\"time\"])"
   ]
  },
  {
   "cell_type": "code",
   "execution_count": null,
   "metadata": {},
   "outputs": [],
   "source": [
    "# Tạo một cột mới 'post_hour' để nhóm dữ liệu theo giờ\n",
    "df_filtered['post_hour'] = (df_filtered['time'].dt.hour ) "
   ]
  },
  {
   "cell_type": "code",
   "execution_count": null,
   "metadata": {},
   "outputs": [],
   "source": [
    "df_filtered['post_hour']"
   ]
  },
  {
   "cell_type": "code",
   "execution_count": null,
   "metadata": {},
   "outputs": [],
   "source": [
    "# Nhóm dữ liệu theo giờ và đếm số lượng bài đăng trong mỗi khoảng thời gian\n",
    "post_per_hour = df_filtered.groupby('post_hour').size().reset_index(name='post_count')"
   ]
  },
  {
   "cell_type": "code",
   "execution_count": null,
   "metadata": {},
   "outputs": [],
   "source": [
    "# lượng bài đăng theo thời gian\n",
    "plt.figure(figsize=(12, 6))\n",
    "plt.bar(post_per_hour['post_hour'], post_per_hour['post_count'])\n",
    "plt.title('Sự Chênh Lệch Số Lượng Bài Đăng Theo Giờ')\n",
    "plt.xlabel('Giờ trong Ngày')\n",
    "plt.ylabel('Số Lượng Bài Đăng')\n",
    "plt.xticks(range(24))\n",
    "plt.show()"
   ]
  },
  {
   "cell_type": "code",
   "execution_count": null,
   "metadata": {},
   "outputs": [],
   "source": [
    "# Nhóm dữ liệu theo giờ và đếm số lượng tương tác trong mỗi khoảng thời gian\n",
    "interaction_per_hour = df_filtered.groupby('post_hour')[\"total_interactions\"].sum()"
   ]
  },
  {
   "cell_type": "code",
   "execution_count": null,
   "metadata": {},
   "outputs": [],
   "source": [
    "interaction_per_hour.plot(kind='bar', xlabel='Giờ trong Ngày', ylabel='Số Lượng tương tác')"
   ]
  },
  {
   "cell_type": "code",
   "execution_count": null,
   "metadata": {},
   "outputs": [],
   "source": [
    "# Lấy 3 thời điểm có số lượng bài đăng lớn nhất\n",
    "top_3_hours = post_per_hour.nlargest(3, 'post_count')\n",
    "\n",
    "print(\"3 thời điểm có nhiều bài đăng nhất:\")\n",
    "for index, row in top_3_hours.iterrows():\n",
    "    print(f\"Giờ {row['post_hour']}:00 với {row['post_count']} bài đăng\")"
   ]
  },
  {
   "cell_type": "markdown",
   "metadata": {},
   "source": [
    "keyword"
   ]
  },
  {
   "cell_type": "code",
   "execution_count": null,
   "metadata": {},
   "outputs": [],
   "source": [
    "df_text = df_filtered[['post_id','post_text']]\n",
    "text    = str(df_text['post_text'])\n",
    "\n",
    "df_text"
   ]
  },
  {
   "cell_type": "code",
   "execution_count": null,
   "metadata": {},
   "outputs": [],
   "source": [
    "from wordcloud import WordCloud, STOPWORDS\n",
    "\n",
    "wordcloud = WordCloud(stopwords=STOPWORDS,\n",
    "                          background_color='white', \n",
    "                      max_words=300,\n",
    "                      width=2000, height=1200\n",
    "                         ).generate(text)\n",
    "plt.figure(figsize=(40,20))\n",
    "plt.clf()\n",
    "plt.imshow(wordcloud)\n",
    "plt.axis('off')\n",
    "plt.show()"
   ]
  }
 ],
 "metadata": {
  "kernelspec": {
   "display_name": "Python 3",
   "language": "python",
   "name": "python3"
  },
  "language_info": {
   "codemirror_mode": {
    "name": "ipython",
    "version": 3
   },
   "file_extension": ".py",
   "mimetype": "text/x-python",
   "name": "python",
   "nbconvert_exporter": "python",
   "pygments_lexer": "ipython3",
   "version": "3.11.4"
  }
 },
 "nbformat": 4,
 "nbformat_minor": 2
}
